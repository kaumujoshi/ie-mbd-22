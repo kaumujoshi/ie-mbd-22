{
 "cells": [
  {
   "cell_type": "markdown",
   "id": "ee553d5f",
   "metadata": {},
   "source": [
    "#### Kaumudi Joshi - MBD April 2022\n",
    "\n",
    "# Python for Data Analysis I: Individual assignment"
   ]
  },
  {
   "cell_type": "markdown",
   "id": "838564e8",
   "metadata": {},
   "source": [
    "## Exercises \n",
    "1. How many tweets are not written in English? [advanced: calculate the number of tweets in each language used]\n",
    "\n",
    "2. How many tweets contain the word \"battery\" (whether in upper or lower case)?\n",
    "\n",
    "3. What is the longest tweet (print its content and ID)?\n",
    "\n",
    "4. And the shortest one (print its content and ID)?\n",
    "\n",
    "5. How many hashtags does a tweet have on average?"
   ]
  },
  {
   "cell_type": "markdown",
   "id": "43404bb1",
   "metadata": {},
   "source": [
    "## Loading the Data"
   ]
  },
  {
   "cell_type": "code",
   "execution_count": 1,
   "id": "659363d7",
   "metadata": {},
   "outputs": [],
   "source": [
    "import json\n",
    "\n",
    "with open(\"C:/Users/Kaumu Joshi/Documents/IE/Term 1/Python 1/tweets.json\", \"r\") as f:\n",
    "    tweets = json.load(f)"
   ]
  },
  {
   "cell_type": "markdown",
   "id": "5657942b",
   "metadata": {},
   "source": [
    "## Exercise 1"
   ]
  },
  {
   "cell_type": "code",
   "execution_count": 2,
   "id": "af1a9f06",
   "metadata": {},
   "outputs": [
    {
     "name": "stdout",
     "output_type": "stream",
     "text": [
      "No. of tweets not written in English:  language_code    172\n",
      "dtype: int64\n",
      "en     828\n",
      "es      43\n",
      "ja      28\n",
      "pt      18\n",
      "in      11\n",
      "ko      10\n",
      "qme      8\n",
      "und      8\n",
      "tr       7\n",
      "fr       5\n",
      "de       5\n",
      "ca       4\n",
      "cy       4\n",
      "et       3\n",
      "zh       3\n",
      "ht       3\n",
      "th       2\n",
      "eu       2\n",
      "qam      1\n",
      "nl       1\n",
      "lv       1\n",
      "it       1\n",
      "hu       1\n",
      "fi       1\n",
      "ar       1\n",
      "tl       1\n",
      "Name: language_code, dtype: int64\n"
     ]
    }
   ],
   "source": [
    "# Import all required libraries\n",
    "import numpy as np\n",
    "import pandas as pd\n",
    "\n",
    "# Create an empty list for all language entries from tweets\n",
    "language = []\n",
    "\n",
    "# Loop through each tweet. Append for every tweet the language (key 'lang' of the dictionary) value to our list.\n",
    "for i in range (len(tweets)):    \n",
    "    language.append(tweets[i]['lang'])\n",
    "\n",
    "# Convert list to a dataframe\n",
    "languages_df = pd.DataFrame( language, columns=['language_code'])\n",
    "\n",
    "# Count the number of list items that are of a different language than English \n",
    "print(\"No. of tweets not written in English: \",languages_df[(languages_df['language_code']!= 'en')].count())\n",
    "\n",
    "# Advanced: Count the values for each language \n",
    "languages_df = languages_df['language_code'].value_counts()\n",
    "print(languages_df)"
   ]
  },
  {
   "cell_type": "markdown",
   "id": "d517fd2c",
   "metadata": {},
   "source": [
    "## Exercise 2"
   ]
  },
  {
   "cell_type": "code",
   "execution_count": 2,
   "id": "e4ee56fe",
   "metadata": {},
   "outputs": [
    {
     "name": "stdout",
     "output_type": "stream",
     "text": [
      "14 no. of tweets contain the word battery.\n"
     ]
    }
   ],
   "source": [
    "# Create an integer variable as the counter, set to 0 to start with smallest value\n",
    "battery_counted = 0\n",
    "\n",
    "# Loop through each tweet. Search for the word battery in each tweet's content in lowercase. \n",
    "# Everytime a tweet contains the word battery, add 1 to the counter variable.\n",
    "for i in range (len(tweets)):  \n",
    "    if 'battery' in tweets[i]['content'].lower(): \n",
    "        battery_counted += 1\n",
    "\n",
    "# Answer\n",
    "print(battery_counted, \"no. of tweets contain the word battery.\")"
   ]
  },
  {
   "cell_type": "markdown",
   "id": "5217d529",
   "metadata": {},
   "source": [
    "## Exercise 3"
   ]
  },
  {
   "cell_type": "code",
   "execution_count": 3,
   "id": "bc0a461e",
   "metadata": {},
   "outputs": [
    {
     "name": "stdout",
     "output_type": "stream",
     "text": [
      "Length of largest tweet in characters:  821 \n",
      " Tweet ID:  1538723745979842563 \n",
      " Content:  @Dig1Tesla @LiberwolfLiber @Gabbicha_rueda @MiguelB50473177 @MI_NUEVO_CLON @MinekoKia @ROLFICOMPAFUEGO @ManuelVegaMX @AntilopeMalo @SUperMarioAnti4 @pejestad @NETORO70 @angelsancas @napoles_o @ElLoboFenix @AlanFrancisco75 @Lpez1Pio @AcmeMxx @JL0_42 @estanislaojr @_JEAL @samcro876376274 @evilscrat @mind_jacket @Vane_SiVal @jmvillalpando04 @NateHowl @jlopal_4T @blkalexmx @MIKE_DRG4915 @KleineKrOteFifi @AnalystTyrion @camagui1971 @LauraOsuna_4T @adnware @RobertoCanavar1 @ArturoV10636646 @GianinoGian @el_Barto__ @Mvp_2022e @secuaz @CantRefund @Val20_20 @lorenzo3017 @joset7285 @sin_socialismo @JaimeCCS @maurotimauroti @PabloMtzDelCam1 @GMonroyEnergy 🤣🤣🤣😂 El embajador de EUA decía que Borolas era alcohólico y su guerra contra el narco una farsa, Tesla pendejo, borolas te deja muy mal parado🤣🤣\n",
      "https://t.co/cBeENcDu8i\n"
     ]
    }
   ],
   "source": [
    "# Create an integer variable for the maximum length\n",
    "maxlen = 0\n",
    "\n",
    "# Loop through each tweet. Compare the length of each tweet content to the maxlen variable. \n",
    "# If the tweet's length is bigger, replace maxlen with the value of the tweet's length. \n",
    "# Continue until the maxlen variable is assigned with the tweet's length of the largest tweet.\n",
    "# Create variables for that tweet's ID and content\n",
    "for i in range (len(tweets)):  \n",
    "    if len(tweets[i]['content']) > maxlen:\n",
    "        maxlen = len(tweets[i]['content'])\n",
    "        ID = tweets[i]['id']\n",
    "        content = tweets[i]['content']\n",
    "    else:\n",
    "        continue\n",
    "        \n",
    "# Answer        \n",
    "print('Length of largest tweet in characters: ',maxlen,  '\\n', 'Tweet ID: ',ID, '\\n', 'Content: ', content)"
   ]
  },
  {
   "cell_type": "markdown",
   "id": "12e8b3ab",
   "metadata": {},
   "source": [
    "## Exercise 4"
   ]
  },
  {
   "cell_type": "code",
   "execution_count": 5,
   "id": "d86d60cb",
   "metadata": {},
   "outputs": [
    {
     "name": "stdout",
     "output_type": "stream",
     "text": [
      "Length of smallest tweet in characters:  12 \n",
      " Tweet ID:  1538716370392825856 \n",
      " Content:  Nikola Tesla\n"
     ]
    }
   ],
   "source": [
    "# Create an integer variable for the minimum length, set it to a high value i.e. 10000\n",
    "minlen = 10000\n",
    "\n",
    "# Loop through each tweet. Compare the length of each tweet content to the minlen variable. \n",
    "# If the tweet's length is smaller, replace minlen with the value of the tweet's length. \n",
    "# Continue until the minlen variable is assigned with the tweet's length of the smallest tweet.\n",
    "# Create variables for that tweet's ID and content\n",
    "for i in range (len(tweets)):  \n",
    "    if len(tweets[i]['content']) < minlen:\n",
    "        minlen = len(tweets[i]['content'])\n",
    "        ID = tweets[i]['id']\n",
    "        content = tweets[i]['content']\n",
    "        \n",
    "# Answer            \n",
    "print('Length of smallest tweet in characters: ',minlen,  '\\n', 'Tweet ID: ',ID, '\\n', 'Content: ', content)\n"
   ]
  },
  {
   "cell_type": "markdown",
   "id": "a7aed0be",
   "metadata": {},
   "source": [
    "## Exercise 5"
   ]
  },
  {
   "cell_type": "code",
   "execution_count": 8,
   "id": "f421ed2a",
   "metadata": {},
   "outputs": [
    {
     "name": "stdout",
     "output_type": "stream",
     "text": [
      "Average hashtags per tweet:  0.673\n"
     ]
    }
   ],
   "source": [
    "# Create an empty list for the hashtag counts of all the tweets\n",
    "hashtagcount = []\n",
    "\n",
    "# Loop through each tweet. If the tweet has no hashtags, append 0 to the list. \n",
    "# If the tweet has hashtags, append the count of the hashtags to the list, by computing the length of the hashtag key.\n",
    "\n",
    "for i in range (len(tweets)):\n",
    "    if tweets[i]['hashtags'] == None:\n",
    "        hashtagcount.append(0)\n",
    "    else:\n",
    "        hashtagcount.append(len(tweets[i]['hashtags']))\n",
    "\n",
    "# Calculate the average of our list by summing all values and dividing by the number of values.        \n",
    "average_hashtagcount = sum(hashtagcount) / len(hashtagcount)\n",
    " \n",
    "# Answer\n",
    "print(\"Average hashtags per tweet: \", round(average_hashtagcount,3))"
   ]
  },
  {
   "cell_type": "code",
   "execution_count": null,
   "id": "2c665042",
   "metadata": {},
   "outputs": [],
   "source": []
  }
 ],
 "metadata": {
  "kernelspec": {
   "display_name": "Python 3 (ipykernel)",
   "language": "python",
   "name": "python3"
  },
  "language_info": {
   "codemirror_mode": {
    "name": "ipython",
    "version": 3
   },
   "file_extension": ".py",
   "mimetype": "text/x-python",
   "name": "python",
   "nbconvert_exporter": "python",
   "pygments_lexer": "ipython3",
   "version": "3.9.7"
  }
 },
 "nbformat": 4,
 "nbformat_minor": 5
}
